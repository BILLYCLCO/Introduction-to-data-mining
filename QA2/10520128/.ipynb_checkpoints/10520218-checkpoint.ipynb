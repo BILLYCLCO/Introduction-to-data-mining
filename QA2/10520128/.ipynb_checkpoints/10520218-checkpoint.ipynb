{
 "cells": [
  {
   "cell_type": "code",
   "execution_count": 107,
   "metadata": {},
   "outputs": [
    {
     "name": "stdout",
     "output_type": "stream",
     "text": [
      "point C to Q 的距離為 38.07886552931954\n",
      "point F to Q 的距離為 40\n",
      "point D to Q 的距離為 40.311288741492746\n",
      "以上三點為最離Q點最近的三點\n",
      "________非課堂上的數據___________\n",
      "Q= [75 33 65]\n",
      "A = [55 35 96]\n",
      "B = [40 78 33]\n",
      "C = [50 78 69]\n",
      "D = [39  1 10]\n",
      "E = [28 96 12]\n",
      "F = [98 26 71]\n",
      "G = [33 34  4]\n",
      "H = [ 6 96 35]\n",
      "I = [16 52 94]\n",
      "point F to Q 的距離為 24.779023386727733\n",
      "point A to Q 的距離為 36.945906403822335\n",
      "point C to Q 的距離為 51.633322573702344\n",
      "以上三點為最離Q點最近的三點\n"
     ]
    }
   ],
   "source": [
    "import numpy as np\n",
    "from sklearn.neighbors import NearestNeighbors\n",
    "def KNN(data):    \n",
    "    knn = NearestNeighbors(n_neighbors = 4).fit(data)\n",
    "    res = knn.kneighbors(data)\n",
    "    return res\n",
    "\n",
    "x = np.array([[60,25],[5,50],[10,40],[25,10],[100,20],[125,60]])\n",
    "res=KNN(x)\n",
    "pointF = False\n",
    "for i in range(1,4):\n",
    "    if(res[0][0][i]>= 40 and not pointF):\n",
    "        pointF = True\n",
    "        print(\"point F to Q 的距離為 40\" )\n",
    "    if( not pointF or i != 3 ):print(\"point {1} to Q 的距離為 {0}\".format(res[0][0][i],chr(res[1][0][i]+64)))\n",
    "print(\"以上三點為最離Q點最近的三點\")\n",
    "\n",
    "print(\"________非課堂上的數據___________\")\n",
    "x = np.random.randint(100,size=(10,3))\n",
    "print(\"Q=\",x[0])\n",
    "for i in range(1,10):\n",
    "    print(chr(64+i),\"=\",x[i])\n",
    "res=KNN(x)\n",
    "for i in range(1,4):\n",
    "    print(\"point {1} to Q 的距離為 {0}\".format(res[0][0][i],chr(res[1][0][i]+64)))\n",
    "print(\"以上三點為最離Q點最近的三點\")"
   ]
  },
  {
   "cell_type": "code",
   "execution_count": null,
   "metadata": {},
   "outputs": [],
   "source": []
  },
  {
   "cell_type": "code",
   "execution_count": null,
   "metadata": {},
   "outputs": [],
   "source": []
  }
 ],
 "metadata": {
  "kernelspec": {
   "display_name": "Python 3",
   "language": "python",
   "name": "python3"
  },
  "language_info": {
   "codemirror_mode": {
    "name": "ipython",
    "version": 3
   },
   "file_extension": ".py",
   "mimetype": "text/x-python",
   "name": "python",
   "nbconvert_exporter": "python",
   "pygments_lexer": "ipython3",
   "version": "3.6.5"
  }
 },
 "nbformat": 4,
 "nbformat_minor": 2
}
