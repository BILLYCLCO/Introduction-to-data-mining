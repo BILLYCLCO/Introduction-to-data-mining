{
 "cells": [
  {
   "cell_type": "markdown",
   "metadata": {},
   "source": [
    "# PCA for dimensionality reduction"
   ]
  },
  {
   "cell_type": "code",
   "execution_count": 1,
   "metadata": {},
   "outputs": [
    {
     "name": "stdout",
     "output_type": "stream",
     "text": [
      "cov：\n",
      "[[ 2.5 -2.5]\n",
      " [-2.5  2.5]]\n",
      "特徵值：\n",
      "[5.0000000e+00 4.4408921e-16]\n",
      "特徵向量：\n",
      "[[ 0.70710678  0.70710678]\n",
      " [-0.70710678  0.70710678]]\n",
      "降維後的結果：\n",
      "[[-2.82842712e+00]\n",
      " [-1.41421356e+00]\n",
      " [ 2.22044605e-16]\n",
      " [ 1.41421356e+00]\n",
      " [ 2.82842712e+00]]\n"
     ]
    }
   ],
   "source": [
    "import numpy as np\n",
    "xdata = np.array([[0, 4], \n",
    "                  [1, 3],\n",
    "                  [2, 2], \n",
    "                  [3, 1],\n",
    "                  [4, 0]])  #5 x 2的矩陣\n",
    "\n",
    "X0 = xdata[:,0]  #第一行\n",
    "X1 = xdata[:,1]  #第二行\n",
    "x_cov = np.cov(xdata.T)  #xdata.T為轉置矩陣,然後計算協方差cov\n",
    "print(\"cov：\")\n",
    "print(x_cov)\n",
    "w, v = np.linalg.eig(np.array(x_cov))  #計算特徵值和特徵向量\n",
    "print(\"特徵值：\")\n",
    "print(w)  #特徵值\n",
    "print(\"特徵向量：\")\n",
    "print(v)  #特徵向量\n",
    "a = v[:,0]  #取特徵向量第一行的值\n",
    "a = a.reshape(2,1)  #變成2 x 1的矩陣\n",
    "ans = np.matmul(xdata,a)  #xdata和特徵向量相乘即是降維後的結果\n",
    "print(\"降維後的結果：\")\n",
    "print(ans)"
   ]
  }
 ],
 "metadata": {
  "kernelspec": {
   "display_name": "Python 3",
   "language": "python",
   "name": "python3"
  },
  "language_info": {
   "codemirror_mode": {
    "name": "ipython",
    "version": 3
   },
   "file_extension": ".py",
   "mimetype": "text/x-python",
   "name": "python",
   "nbconvert_exporter": "python",
   "pygments_lexer": "ipython3",
   "version": "3.7.3"
  }
 },
 "nbformat": 4,
 "nbformat_minor": 2
}
