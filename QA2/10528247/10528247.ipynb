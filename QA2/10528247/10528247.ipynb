{
 "cells": [
  {
   "cell_type": "markdown",
   "metadata": {},
   "source": [
    "#KNN-SEARCH"
   ]
  },
  {
   "cell_type": "code",
   "execution_count": 1,
   "metadata": {},
   "outputs": [
    {
     "name": "stdout",
     "output_type": "stream",
     "text": [
      "[[55 25]]\n",
      "1 .   55 <=Q=< 1 65\n",
      "2 .   50 <=Q=< 2 65\n",
      "3 .   35 <=Q=< 3 35\n",
      "4 .   40 <=Q=< 4 45\n",
      "5 .   65 <=Q=< 5 85\n"
     ]
    }
   ],
   "source": [
    "import numpy as np\n",
    "\n",
    "# X = np.array([[60,25],[5,50],[10,40],[25,10],[100,20],[125,60]])\n",
    "x = np.array([[5,50],[10,40],[25,10],[100,20],[125,60]])\n",
    "y = np.array([60,25])\n",
    "\n",
    "max = abs(x-y)\n",
    "min = x+y\n",
    "\n",
    "print(max[0:1])\n",
    "for i in range(5):\n",
    "    print(i+1,\".  \",np.max(max[i:i+1]),\"<=Q=<\",i+1,np.min(min[i:i+1]))"
   ]
  },
  {
   "cell_type": "code",
   "execution_count": null,
   "metadata": {},
   "outputs": [],
   "source": []
  },
  {
   "cell_type": "code",
   "execution_count": null,
   "metadata": {},
   "outputs": [],
   "source": []
  }
 ],
 "metadata": {
  "kernelspec": {
   "display_name": "Python 3",
   "language": "python",
   "name": "python3"
  },
  "language_info": {
   "codemirror_mode": {
    "name": "ipython",
    "version": 3
   },
   "file_extension": ".py",
   "mimetype": "text/x-python",
   "name": "python",
   "nbconvert_exporter": "python",
   "pygments_lexer": "ipython3",
   "version": "3.7.3"
  }
 },
 "nbformat": 4,
 "nbformat_minor": 2
}
