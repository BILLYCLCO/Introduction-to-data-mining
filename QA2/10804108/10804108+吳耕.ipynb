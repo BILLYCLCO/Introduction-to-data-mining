{
 "cells": [
  {
   "cell_type": "code",
   "execution_count": 1,
   "metadata": {},
   "outputs": [
    {
     "name": "stdout",
     "output_type": "stream",
     "text": [
      "q和x1的Cosine,Extended Jaccard以及Correlation相似度分别为:\n",
      "    [0.9999999999999998,0.6666666666666666,1.0]\n",
      "q和x2的Cosine,Extended Jaccard以及Correlation相似度分别为:\n",
      "    [0.4999999999999999,0.3333333333333333,-0.5]\n",
      "q和x3的Cosine,Extended Jaccard以及Correlation相似度分别为:\n",
      "    [0.0,0.0,0.0]\n",
      "q和x4的Cosine,Extended Jaccard以及Correlation相似度分别为:\n",
      "    [0.0,0.0,-0.9999999999999999]\n"
     ]
    }
   ],
   "source": [
    "import numpy as np\n",
    "class Similarity:\n",
    "    def __init__(self,cosine,ejaccard,correlation_1,correlation_2):\n",
    "        self.cosine = cosine(x,y)\n",
    "        self.ejaccard = cosine(x,y)\n",
    "        self.correlation_1 = correlation_1(x,y)\n",
    "        self.correlation_2 = correlation_2(x,y)\n",
    "    def cosine(x,y):\n",
    "        dot = np.dot(x,np.transpose(y))\n",
    "        norm_x = np.linalg.norm(x)\n",
    "        norm_y = np.linalg.norm(y)\n",
    "        cosine = dot / (norm_x * norm_y)\n",
    "        return cosine\n",
    "    def ejaccard(x,y):\n",
    "        dot = np.dot(x,np.transpose(y))\n",
    "        x_x = np.dot(x,np.transpose(x))\n",
    "        y_y = np.dot(y,np.transpose(y))\n",
    "        ejac = dot / (x_x + y_y-dot)\n",
    "        return ejac\n",
    "    def correlation_1(x,y):\n",
    "        cor_std_x=np.sqrt(np.sum((x-np.mean(x))*(np.transpose(x-np.mean(x))))/(len(x)-1))\n",
    "        cor_std_y=np.sqrt(np.sum((y-np.mean(y))*(np.transpose(y-np.mean(y))))/(len(y)-1))\n",
    "        cor_x = (x-np.mean(x))/cor_std_x\n",
    "        cor_y = (y-np.mean(y))/cor_std_y\n",
    "        correlation_1 = (np.dot(cor_x,np.transpose(cor_y)))/((np.sqrt(np.dot(cor_x,np.transpose(cor_x))))*(np.sqrt(np.dot(cor_y,np.transpose(cor_y)))))\n",
    "        return correlation_1\n",
    "    def correlation_2(x,y):\n",
    "        cor_std_x=np.sqrt(np.sum((x-np.mean(x))*(np.transpose(x-np.mean(x))))/(len(x)-1))\n",
    "        cor_std_y=np.sqrt(np.sum((y-np.mean(y))*(np.transpose(y-np.mean(y))))/(len(y)-1))\n",
    "        correlation_2=np.dot(x-np.mean(x),np.transpose(y-np.mean(y)))/((len(x)-1)*cor_std_x*cor_std_y)\n",
    "        return correlation_2\n",
    "#-----------------------------------------------------------------------------------------------------\n",
    "if __name__=='__main__':\n",
    "    q = np.array([1,1,0])\n",
    "    x1 = np.array([2,2,0]) \n",
    "    x2 = np.array([0,1,1])\n",
    "    x3 = np.array([1,-1,0])\n",
    "    x4 = np.array([0,0,1])\n",
    "    # Correlation相似度用了兩種方法做，爲了美觀不重複:q和x1,x2用方法一,q和x3,x4用方法二。\n",
    "    print(f'''q和x1的Cosine,Extended Jaccard以及Correlation相似度分别为:\n",
    "    [{Similarity.cosine(q,x1)},{Similarity.ejaccard(q,x1)},{Similarity.correlation_1(q,x1)}]''')\n",
    "    print(f'''q和x2的Cosine,Extended Jaccard以及Correlation相似度分别为:\n",
    "    [{Similarity.cosine(q,x2)},{Similarity.ejaccard(q,x2)},{Similarity.correlation_1(q,x2)}]''')\n",
    "    print(f'''q和x3的Cosine,Extended Jaccard以及Correlation相似度分别为:\n",
    "    [{Similarity.cosine(q,x3)},{Similarity.ejaccard(q,x3)},{Similarity.correlation_2(q,x3)}]''')\n",
    "    print(f'''q和x4的Cosine,Extended Jaccard以及Correlation相似度分别为:\n",
    "    [{Similarity.cosine(q,x4)},{Similarity.ejaccard(q,x4)},{Similarity.correlation_2(q,x4)}]''')"
   ]
  },
  {
   "cell_type": "code",
   "execution_count": 3,
   "metadata": {},
   "outputs": [
    {
     "name": "stdout",
     "output_type": "stream",
     "text": [
      "x和y的Cosine,Extended Jaccard以及Correlation相似度分别为:\n",
      "    [0.5547001962252291,0.16666666666666666,1.0000000000000002]\n",
      "x和z的Cosine,Extended Jaccard以及Correlation相似度分别为:\n",
      "    [0.0,0.0,0.0]\n"
     ]
    }
   ],
   "source": [
    "#另一組數據用老師簡報上的數據\n",
    "if __name__=='__main__':\n",
    "    x = [-3,-2,-1,0,1,2,3]\n",
    "    y = [0,2,4,6,8,10,12]\n",
    "    z = [9,4,1,0,1,4,9,]\n",
    "    print(f'''x和y的Cosine,Extended Jaccard以及Correlation相似度分别为:\n",
    "    [{Similarity.cosine(x,y)},{Similarity.ejaccard(x,y)},{Similarity.correlation_1(x,y)}]''')\n",
    "    print(f'''x和z的Cosine,Extended Jaccard以及Correlation相似度分别为:\n",
    "    [{Similarity.cosine(x,z)},{Similarity.ejaccard(x,z)},{Similarity.correlation_2(x,z)}]''')"
   ]
  },
  {
   "cell_type": "code",
   "execution_count": null,
   "metadata": {},
   "outputs": [],
   "source": []
  }
 ],
 "metadata": {
  "kernelspec": {
   "display_name": "Python 3",
   "language": "python",
   "name": "python3"
  },
  "language_info": {
   "codemirror_mode": {
    "name": "ipython",
    "version": 3
   },
   "file_extension": ".py",
   "mimetype": "text/x-python",
   "name": "python",
   "nbconvert_exporter": "python",
   "pygments_lexer": "ipython3",
   "version": "3.7.4"
  }
 },
 "nbformat": 4,
 "nbformat_minor": 2
}
