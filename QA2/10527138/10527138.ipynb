{
 "cells": [
  {
   "cell_type": "markdown",
   "metadata": {},
   "source": [
    "Discretization"
   ]
  },
  {
   "cell_type": "code",
   "execution_count": 1,
   "metadata": {},
   "outputs": [
    {
     "name": "stdout",
     "output_type": "stream",
     "text": [
      "dat_1:           [0.5 1.  1.5 2.  2.5 3.  3.5 4.  4.5]\n",
      "discrete_dat:    [0 0 0 1 1 2 2 3 3]\n",
      "cutoff:          [1.5, 2.5, 3.5]\n",
      "\n",
      " \n",
      "\n",
      "dat_2:           [5.   5.25 5.5  5.75 6.   6.25 6.5  6.75 7.   7.25]\n",
      "discrete_dat:    [0 0 0 1 1 1 2 2 3 3]\n",
      "cutoff:          [5.5, 6.25, 6.75]\n"
     ]
    }
   ],
   "source": [
    "import random\n",
    "import numpy as np\n",
    "\n",
    "dat_1 = np.arange(1,10)/2.0\n",
    "dat_2 = np.arange(20,30)/4.0\n",
    "\n",
    "def discretize(data, bins):\n",
    "    split = np.array_split(np.sort(data), bins)\n",
    "    cutoffs = [x[-1] for x in split]                    # 取每段array的最後一個當作cutoffs\n",
    "    cutoffs = cutoffs[:-1]\n",
    "    discrete = np.digitize(data, cutoffs, right=True)\n",
    "    return ( discrete, cutoffs ) \n",
    "\n",
    "if __name__ == '__main__':\n",
    "    discrete_dat_1, cutoff = discretize(dat_1, 4)       # dat 為測試資料 分成4組\n",
    "    print(\"dat_1:           {}\".format(dat_1))          # 測試資料\n",
    "    print(\"discrete_dat:    {}\".format(discrete_dat_1)) # 降維後的資料\n",
    "    print(\"cutoff:          {}\".format(cutoff))         # 分段點\n",
    "\t\n",
    "    print('\\n','\\n')\n",
    "\t\n",
    "    discrete_dat_2, cutoff = discretize(dat_2, 4)\n",
    "    print(\"dat_2:           {}\".format(dat_2))          \n",
    "    print(\"discrete_dat:    {}\".format(discrete_dat_2)) \n",
    "    print(\"cutoff:          {}\".format(cutoff))   "
   ]
  }
 ],
 "metadata": {
  "kernelspec": {
   "display_name": "Python 3",
   "language": "python",
   "name": "python3"
  },
  "language_info": {
   "codemirror_mode": {
    "name": "ipython",
    "version": 3
   },
   "file_extension": ".py",
   "mimetype": "text/x-python",
   "name": "python",
   "nbconvert_exporter": "python",
   "pygments_lexer": "ipython3",
   "version": "3.7.3"
  }
 },
 "nbformat": 4,
 "nbformat_minor": 2
}
