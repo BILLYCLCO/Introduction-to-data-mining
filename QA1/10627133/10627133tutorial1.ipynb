{
 "cells": [
  {
   "cell_type": "markdown",
   "metadata": {},
   "source": [
    "# 1. Compound Data Types \n",
    "    簡便建立指定範圍數字之數列組合"
   ]
  },
  {
   "cell_type": "code",
   "execution_count": 16,
   "metadata": {
    "collapsed": false
   },
   "outputs": [
    {
     "name": "stdout",
     "output_type": "stream",
     "text": [
      "[[ 2  3  4]\n",
      " [ 5  6  7]\n",
      " [ 8  9 10]\n",
      " [11 12 13]\n",
      " [14 15 16]\n",
      " [17 18 19]]\n",
      "[[ 2  3  4  5  6  7  8]\n",
      " [ 9 10 11 12 13 14 15]\n",
      " [16 17 18 19 20 21 22]\n",
      " [23 24 25 26 27 28 29]]\n",
      "<class 'numpy.ndarray'>\n"
     ]
    }
   ],
   "source": [
    "import numpy as np               #使用型別為numpy中的ndarray\n",
    "a = np.arange(2,20).reshape(6,3) #arange給定範圍 reshape給模式(幾組，幾個)   注意幾組乘上幾個須符合前面給定之範圍\n",
    "print(a)\n",
    "a = np.arange(2,30).reshape(4,7)\n",
    "print(a)\n",
    "print(type(a))"
   ]
  },
  {
   "cell_type": "markdown",
   "metadata": {},
   "source": [
    "# 2. User-Defined Functions\n",
    "    產生第一題結果之function"
   ]
  },
  {
   "cell_type": "code",
   "execution_count": 27,
   "metadata": {
    "collapsed": false
   },
   "outputs": [
    {
     "name": "stdout",
     "output_type": "stream",
     "text": [
      "[[1 2 3]\n",
      " [4 5 6]\n",
      " [7 8 9]]\n",
      "9 cannot divide into 4 groups\n"
     ]
    }
   ],
   "source": [
    "import numpy as np\n",
    "def numcombination(low,high,group) :\n",
    "    if ( high - low ) % group == 0 :\n",
    "        num = ( high - low ) / group\n",
    "    else :\n",
    "        print(str(high-low) + \" cannot divide into \" + str(group) + \" groups\" )\n",
    "        return\n",
    "    combination = np.arange(low,high).reshape(group,int(num))\n",
    "    print(combination)\n",
    "numcombination(1,10,3)\n",
    "numcombination(1,10,4)"
   ]
  },
  {
   "cell_type": "markdown",
   "metadata": {},
   "source": [
    "# 3. File I/O"
   ]
  },
  {
   "cell_type": "code",
   "execution_count": 43,
   "metadata": {
    "collapsed": false
   },
   "outputs": [
    {
     "name": "stdout",
     "output_type": "stream",
     "text": [
      "filename: input.txt\n",
      "filemode: r\n",
      "file closed or not: False\n",
      "file closed of not: True\n"
     ]
    }
   ],
   "source": [
    "f = open('input.txt','r')\n",
    "print(\"filename:\",f.name)\n",
    "print(\"filemode:\",f.mode)\n",
    "print(\"file closed or not:\",f.closed)\n",
    "f.close()\n",
    "print(\"file closed of not:\",f.closed)"
   ]
  }
 ],
 "metadata": {
  "kernelspec": {
   "display_name": "Python 3",
   "language": "python",
   "name": "python3"
  },
  "language_info": {
   "codemirror_mode": {
    "name": "ipython",
    "version": 3
   },
   "file_extension": ".py",
   "mimetype": "text/x-python",
   "name": "python",
   "nbconvert_exporter": "python",
   "pygments_lexer": "ipython3",
   "version": "3.6.0"
  }
 },
 "nbformat": 4,
 "nbformat_minor": 2
}
