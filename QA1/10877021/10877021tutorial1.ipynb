{
 "cells": [
  {
   "cell_type": "markdown",
   "metadata": {},
   "source": [
    "1.2 Compound Data Types(10877021)"
   ]
  },
  {
   "cell_type": "code",
   "execution_count": 1,
   "metadata": {},
   "outputs": [
    {
     "name": "stdout",
     "output_type": "stream",
     "text": [
      "1.2 Compound Data Types\n",
      "2020\n",
      "[2012, 2014, 2016]\n",
      "[2018, 2020]\n",
      "5\n",
      "[2012, 2014, 2016, 2018, 2020, 2022]\n",
      "2018\n",
      "[2012, 2014, 2016, 2020, 2022]\n",
      "[2012, 2014, 2016, 2020, 2022, 2024, 2026, 2028]\n",
      "[2012, 2014, 2016, 2020, 2022, 2012, 2014, 2016, 2020, 2022]\n",
      "[2012, 2014, 2016, 2018, 2020, 2022]\n",
      "[2022, 2020, 2018, 2016, 2014, 2012]\n",
      "True\n",
      "dict_values(['D', 'N', 'A'])\n",
      "dict_keys(['1', '2', '3'])\n",
      "{'1': 'D', '2': 'N', '3': 'A'}\n",
      "3\n",
      "N\n",
      "True\n",
      "False\n",
      "2012\n",
      "3\n"
     ]
    }
   ],
   "source": [
    "#1.2 Compound Data Types\n",
    "\n",
    "print(\"1.2 Compound Data Types\")\n",
    "X = [2012, 2014, 2016, 2018, 2020]\n",
    "\n",
    "print(X[4])                \n",
    "print(X[:3])               \n",
    "print(X[3:])               \n",
    "print(len(X))              \n",
    "             \n",
    "\n",
    "X.append(2022)               \n",
    "print(X)\n",
    "print(X.pop(3))            \n",
    "print(X)\n",
    "print(X + [2024,2026,2028])      \n",
    "print(X * 2)               \n",
    "X.insert(3,2018)              \n",
    "print(X)\n",
    "X.sort(reverse=True)       \n",
    "print(X)\n",
    "print(2012 in X)\n",
    "\n",
    "Y = {}\n",
    "Y['1'] = \"D\"\n",
    "Y['2'] = \"N\"\n",
    "Y['3'] = \"A\"\n",
    "\n",
    "\n",
    "print(Y.values()) \n",
    "print(Y.keys()) \n",
    "print(Y)\n",
    "print(len(Y))\n",
    "\n",
    "print(Y.get('2'))\n",
    "print(\"2\" in Y)\n",
    "print(\"A\" in Y)\n",
    "\n",
    "print(min(X)) \n",
    "print(max(Y))"
   ]
  },
  {
   "cell_type": "markdown",
   "metadata": {},
   "source": [
    "1.4 User-Defined Functions(10877021)"
   ]
  },
  {
   "cell_type": "code",
   "execution_count": 2,
   "metadata": {},
   "outputs": [
    {
     "name": "stdout",
     "output_type": "stream",
     "text": [
      "1.4 User-Defined Functions\n",
      "420\n"
     ]
    }
   ],
   "source": [
    "#1.4 User-Defined Functions\n",
    "\n",
    "print(\"1.4 User-Defined Functions\")\n",
    "\n",
    "import math\n",
    "\n",
    "def sum(a, b, c ):\n",
    "    return a + b + c\n",
    "print(sum(c = 100, a = 110, b = 210))\n"
   ]
  },
  {
   "cell_type": "markdown",
   "metadata": {},
   "source": [
    "1.5 File I/O(10877021)"
   ]
  },
  {
   "cell_type": "code",
   "execution_count": 4,
   "metadata": {
    "scrolled": true
   },
   "outputs": [
    {
     "data": {
      "image/png": "[encoded data removed]",
      "text/plain": [
       "<Figure size 432x288 with 1 Axes>"
      ]
     },
     "metadata": {
      "needs_background": "light"
     },
     "output_type": "display_data"
    }
   ],
   "source": [
    "import numpy as nu\n",
    "import pylab\n",
    "import scipy.stats as stats\n",
    "data=nu.mat([[1,100],[5,310],[7,500],[9,450],[3,230]])\n",
    "c=[]\n",
    "for row in data:\n",
    "    c.append(row[0,1])\n",
    "    \n",
    "stats.probplot(c,plot=pylab)\n",
    "pylab.show()"
   ]
  },
  {
   "cell_type": "markdown",
   "metadata": {},
   "source": [
    "END"
   ]
  },
  {
   "cell_type": "code",
   "execution_count": null,
   "metadata": {},
   "outputs": [],
   "source": []
  }
 ],
 "metadata": {
  "kernelspec": {
   "display_name": "Python 3",
   "language": "python",
   "name": "python3"
  },
  "language_info": {
   "codemirror_mode": {
    "name": "ipython",
    "version": 3
   },
   "file_extension": ".py",
   "mimetype": "text/x-python",
   "name": "python",
   "nbconvert_exporter": "python",
   "pygments_lexer": "ipython3",
   "version": "3.7.3"
  }
 },
 "nbformat": 4,
 "nbformat_minor": 2
}
