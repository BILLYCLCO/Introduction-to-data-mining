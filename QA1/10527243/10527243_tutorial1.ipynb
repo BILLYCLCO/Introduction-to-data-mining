{
 "cells": [
  {
   "cell_type": "markdown",
   "metadata": {},
   "source": [
    "### 1. Compound Data Type ###\n",
    "這是我查到的定義\n",
    "A compound data type is \"one that holds multiple independent values\"  \n",
    "from https://rosettacode.org/wiki/Compound_data_type  \n",
    "我的理解是一個東西有多個獨立的值就是Compound Data Type  \n",
    "所以我自己定義一個class student data type  \n",
    "裡面有 id、name、gender的資訊  "
   ]
  },
  {
   "cell_type": "code",
   "execution_count": 1,
   "metadata": {},
   "outputs": [],
   "source": [
    "class Student():\n",
    "    def __init__(self, sid, name, gender):\n",
    "        self.sid = sid\n",
    "        self.name = name\n",
    "        self.gender = gender\n",
    "        \n",
    "    #顯示學生資訊    \n",
    "    def Inf(self):\n",
    "        print(\"sid : \" + self.sid)\n",
    "        print(\"name : \" + self.name)\n",
    "        print(\"gender : \" + self.gender)\n",
    "        \n",
    "    sid = ''\n",
    "    name = ''\n",
    "    gender = ''\n",
    "    \n",
    "student = Student('1234567', 'nan', 'boy')\n",
    "student.Inf()"
   ]
  },
  {
   "cell_type": "markdown",
   "metadata": {},
   "source": [
    "### 2. User-Defined Functions ###\n",
    "1~100猜數字遊戲"
   ]
  },
  {
   "cell_type": "code",
   "execution_count": 4,
   "metadata": {},
   "outputs": [
    {
     "name": "stdout",
     "output_type": "stream",
     "text": [
      "Guess 1 to 100\n",
      "50\n",
      "Guess 50 to 100\n",
      "\n",
      "75\n",
      "Guess 75 to 100\n",
      "\n",
      "90\n",
      "Guess 75 to 90\n",
      "\n",
      "80\n",
      "Guess 80 to 90\n",
      "\n",
      "85\n",
      "Guess 80 to 85\n",
      "\n",
      "82\n",
      "Boom~~~~~\n"
     ]
    }
   ],
   "source": [
    "import random\n",
    "answer = random.randint(1,100)\n",
    "topNum = 100\n",
    "buttomNum = 1\n",
    "def guess(guessNum):\n",
    "    global topNum\n",
    "    global buttomNum\n",
    "    if int(guessNum) == answer:\n",
    "        print('Boom~~~~~')\n",
    "        return True\n",
    "    elif int(guessNum) < answer:\n",
    "        buttomNum = int(guessNum)\n",
    "        print('Guess ' + str(buttomNum) + ' to ' + str(topNum))\n",
    "        return False\n",
    "    else:\n",
    "        topNum = int(guessNum)\n",
    "        print('Guess ' + str(buttomNum) + ' to ' + str(topNum))\n",
    "        return False\n",
    "\n",
    "print('Guess 1 to 100')\n",
    "guessNum = input()\n",
    "while not guess(guessNum):\n",
    "    print()\n",
    "    guessNum = input()\n",
    "    "
   ]
  },
  {
   "cell_type": "markdown",
   "metadata": {},
   "source": [
    "### 3. File I/O ###\n",
    "取得指定目錄中的檔案   \n",
    "選擇A檔案  \n",
    "把A檔案的內容寫到B檔案  "
   ]
  },
  {
   "cell_type": "code",
   "execution_count": 12,
   "metadata": {},
   "outputs": [
    {
     "name": "stdout",
     "output_type": "stream",
     "text": [
      "input path\n",
      "C:\\Users\\nannan\\Documents\\GitHub\\Introduction-to-data-mining\\QA1\\10527243\n",
      "files:\n",
      "0 : .ipynb_checkpoints\n",
      "1 : 1.2\n",
      "2 : 10527243_tutorial1.ipynb\n",
      "3 : input1.txt\n",
      "4 : output1.txt\n",
      "5 : output2.txt\n",
      "choose file: \n",
      "3\n",
      "input write file name : (連同副檔名)\n",
      "output2.txt\n"
     ]
    }
   ],
   "source": [
    "from os import listdir\n",
    "from os.path import join\n",
    "\n",
    "print('input path')\n",
    "path = input()\n",
    "path.replace('\\\\','/') # 一般的路徑是用'\\'但是python裡面是用'/'，不用手動自己改\n",
    "files = listdir(path)\n",
    "print(\"files:\")\n",
    "i = 0\n",
    "for file in files:\n",
    "    print(str(i) + \" : \" + file)\n",
    "    i = i + 1\n",
    "    \n",
    "print('choose file: ')\n",
    "fileNum = input()\n",
    "filePath = join(path, files[int(fileNum)])\n",
    "#print(filePath)\n",
    "print('input write file name : (連同副檔名)')\n",
    "file2Name = input()\n",
    "file2Path = join(path, file2Name)\n",
    "\n",
    "f1 = open(filePath, 'r')\n",
    "f2 = open(file2Path, 'w')\n",
    "\n",
    "for line in f1:\n",
    "    f2.write(line)\n",
    "    \n",
    "f1.close()\n",
    "f2.close()\n",
    "\n",
    "#print(file2Path)"
   ]
  },
  {
   "cell_type": "code",
   "execution_count": null,
   "metadata": {},
   "outputs": [],
   "source": []
  }
 ],
 "metadata": {
  "kernelspec": {
   "display_name": "Python 3",
   "language": "python",
   "name": "python3"
  },
  "language_info": {
   "codemirror_mode": {
    "name": "ipython",
    "version": 3
   },
   "file_extension": ".py",
   "mimetype": "text/x-python",
   "name": "python",
   "nbconvert_exporter": "python",
   "pygments_lexer": "ipython3",
   "version": "3.7.0"
  }
 },
 "nbformat": 4,
 "nbformat_minor": 2
}
