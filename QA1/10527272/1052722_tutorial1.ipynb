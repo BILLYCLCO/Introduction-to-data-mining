{
 "cells": [
  {
   "cell_type": "markdown",
   "metadata": {},
   "source": [
    "# Compound Data Types"
   ]
  },
  {
   "cell_type": "code",
   "execution_count": 12,
   "metadata": {},
   "outputs": [
    {
     "name": "stdout",
     "output_type": "stream",
     "text": [
      "ello el hell hello\n",
      "hl\n"
     ]
    }
   ],
   "source": [
    "#python provide mamy useful data types,integer,float,char,string,list\n",
    "\n",
    "#字符串拼接\n",
    "\n",
    "a = \"sss\" + \"ccc\"  #string + string\n",
    "b = \"sss\" + str(3) #string + integer to string\n",
    "\n",
    "\n",
    "#字符串截取\n",
    "\n",
    "origin = \"hello\"  # include down, not include up  [down, up)\n",
    "c = origin[1:]    # get after second char\n",
    "d = origin[1:3]   # get 1-3 index char,not include 3\n",
    "e = origin[:-1]   # -1 mean last char, but not include\n",
    "f = origin[:]     # get full string\n",
    "\n",
    "print(c,d,e,f)\n",
    "\n",
    "g = origin[0:-1:2]  # the third parameter mean step\n",
    "print(g)"
   ]
  },
  {
   "cell_type": "markdown",
   "metadata": {},
   "source": [
    "# User-Defined Functions"
   ]
  },
  {
   "cell_type": "code",
   "execution_count": 11,
   "metadata": {},
   "outputs": [],
   "source": [
    "#对于一个简易计算器，用于分析stack中符号的优先级和即将进来的下一个符号，例如*遇到+，优先计算*\n",
    "def set_op(op1, op2):\n",
    "    if (op2 == \"*\" or op2 == \"/\") and (op1 == \"+\" or op1 == \"-\" or op1 == \"(\") : return True\n",
    "    elif (op2 == \"+\" or op2 == \"-\") and op1 == \"(\":return True\n",
    "\n",
    "    return False\n",
    "# true or false decide continue get char or calculate now"
   ]
  },
  {
   "cell_type": "markdown",
   "metadata": {},
   "source": [
    "# File I/O"
   ]
  },
  {
   "cell_type": "code",
   "execution_count": null,
   "metadata": {},
   "outputs": [],
   "source": [
    "#using open to operate file\n",
    "\n",
    "file newobj = open(\"filea\", r+) # 建立一个文件对象，参数为文件名，绝对路径相对路径均可，第二个参数为读写模式\n",
    "\n",
    "#  默认使用文本模式t，可选二进制模式b\n",
    "#  默认只读模式r打开，指针放在开头\n",
    "#  x 新建文件写入模式，如果文件已存在报错\n",
    "#  +/r+ 打开文件读写，指针放在开头\n",
    "#  a 打开一个文件追加写入，若文件存在，写入到末尾，不存在的新建写入\n",
    "#  w 打开一个文件用于写入，从开头开始写入，原有内容覆盖\n",
    "#  以上指令可以组合使用"
   ]
  }
 ],
 "metadata": {
  "kernelspec": {
   "display_name": "Python 3",
   "language": "python",
   "name": "python3"
  },
  "language_info": {
   "codemirror_mode": {
    "name": "ipython",
    "version": 3
   },
   "file_extension": ".py",
   "mimetype": "text/x-python",
   "name": "python",
   "nbconvert_exporter": "python",
   "pygments_lexer": "ipython3",
   "version": "3.6.5"
  }
 },
 "nbformat": 4,
 "nbformat_minor": 2
}
