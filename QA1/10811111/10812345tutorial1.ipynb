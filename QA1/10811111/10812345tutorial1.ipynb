{
 "cells": [
  {
   "cell_type": "markdown",
   "metadata": {},
   "source": [
    "## 1.2 Compound Data Types\n",
    "\n",
    "The following examples show how to create and manipulate a list object"
   ]
  },
  {
   "cell_type": "code",
   "execution_count": null,
   "metadata": {},
   "outputs": [],
   "source": [
    "intlist = [1, 3, 5, 7, 9]\n",
    "print(type(intlist))\n",
    "print(intlist)\n",
    "intlist2 = list(range(0,10,2))   # range[startvalue, endvalue, stepsize]\n",
    "print(intlist2)\n",
    "\n",
    "print(intlist[2])                # get the third element of the list\n",
    "print(intlist[:2])               # get the first two elements\n",
    "print(intlist[2:])               # get the last three elements of the list\n",
    "print(len(intlist))              # get the number of elements in the list\n",
    "print(sum(intlist))              # sums up elements of the list\n",
    "\n",
    "intlist.append(11)               # insert 11 to end of the list\n",
    "print(intlist)\n",
    "print(intlist.pop())             # remove last element of the list\n",
    "print(intlist)\n",
    "print(intlist + [11,13,15])      # concatenate two lists\n",
    "print(intlist * 3)               # replicate the list\n",
    "intlist.insert(2,4)              # insert item 4 at index 2  \n",
    "print(intlist)\n",
    "intlist.sort(reverse=True)       # sort elements in descending order\n",
    "print(intlist)"
   ]
  },
  {
   "cell_type": "code",
   "execution_count": null,
   "metadata": {},
   "outputs": [],
   "source": [
    "mylist = ['this', 'is', 'a', 'list']\n",
    "print(mylist)\n",
    "print(type(mylist))\n",
    "\n",
    "print(\"list\" in mylist)          # check whether \"list\" is in mylist\n",
    "print(mylist[2])                 # show the 3rd element of the list\n",
    "print(mylist[:2])                # show the first two elements of the list\n",
    "print(mylist[2:])                # show the last two elements of the list\n",
    "mylist.append(\"too\")             # insert element to end of the list\n",
    "\n",
    "separator = \" \"\n",
    "print(separator.join(mylist))    # merge all elements of the list into a string\n",
    "\n",
    "mylist.remove(\"is\")              # remove element from list\n",
    "print(mylist)"
   ]
  },
  {
   "cell_type": "markdown",
   "metadata": {},
   "source": [
    "The following examples show how to create and manipulate a dictionary object"
   ]
  },
  {
   "cell_type": "code",
   "execution_count": null,
   "metadata": {},
   "outputs": [],
   "source": [
    "abbrev = {}\n",
    "abbrev['MI'] = \"Michigan\"\n",
    "abbrev['MN'] = \"Minnesota\"\n",
    "abbrev['TX'] = \"Texas\"\n",
    "abbrev['CA'] = \"California\"\n",
    "\n",
    "print(abbrev)\n",
    "print(abbrev.keys())            # get the keys of the dictionary\n",
    "print(abbrev.values())          # get the values of the dictionary\n",
    "print(len(abbrev))              # get number of key-value pairs\n",
    "\n",
    "print(abbrev.get('MI'))\n",
    "print(\"FL\" in abbrev)\n",
    "print(\"CA\" in abbrev)\n",
    "\n",
    "keys = ['apples', 'oranges', 'bananas', 'cherries']\n",
    "values = [3, 4, 2, 10]\n",
    "fruits = dict(zip(keys, values))\n",
    "print(fruits)\n",
    "print(sorted(fruits))     # sort keys of dictionary\n",
    "\n",
    "from operator import itemgetter\n",
    "print(sorted(fruits.items(), key=itemgetter(0)))    # sort by key of dictionary\n",
    "print(sorted(fruits.items(), key=itemgetter(1)))    # sort by value of dictionary"
   ]
  },
  {
   "cell_type": "markdown",
   "metadata": {},
   "source": [
    "The following examples show how to create and manipulate a tuple object. Unlike a list, a tuple object is immutable, i.e., they cannot be modified after creation."
   ]
  },
  {
   "cell_type": "code",
   "execution_count": null,
   "metadata": {},
   "outputs": [],
   "source": [
    "MItuple = ('MI', 'Michigan', 'Lansing')\n",
    "CAtuple = ('CA', 'California', 'Sacramento')\n",
    "TXtuple = ('TX', 'Texas', 'Austin')\n",
    "\n",
    "print(MItuple)\n",
    "print(MItuple[1:])\n",
    "\n",
    "states = [MItuple, CAtuple, TXtuple]    # this will create a list of tuples\n",
    "print(states)\n",
    "print(states[2])\n",
    "print(states[2][:])\n",
    "print(states[2][1:])\n",
    "\n",
    "states.sort(key=lambda state: state[2])  # sort the states by their capital cities\n",
    "print(states)"
   ]
  },
  {
   "cell_type": "markdown",
   "metadata": {},
   "source": [
    "## 1.4 User-Defined Functions\n",
    "\n",
    "You can create your own functions in Python, which can be named or unnamed. Unnamed functions are defined using the lambda keyword as shown in the previous example for sorting a list of tuples. "
   ]
  },
  {
   "cell_type": "code",
   "execution_count": null,
   "metadata": {},
   "outputs": [],
   "source": [
    "myfunc = lambda x: 3*x**2 - 2*x + 3      # example of an unnamed quadratic function\n",
    "\n",
    "print(myfunc(2))"
   ]
  },
  {
   "cell_type": "code",
   "execution_count": null,
   "metadata": {},
   "outputs": [],
   "source": [
    "import math\n",
    "\n",
    "# The following function will discard missing values from a list\n",
    "def discard(inlist, sortFlag=False):    # default value for sortFlag is False \n",
    "    outlist = []\n",
    "    for item in inlist:\n",
    "        if not math.isnan(item):\n",
    "            outlist.append(item)\n",
    "            \n",
    "    if sortFlag:\n",
    "        outlist.sort()\n",
    "    return outlist\n",
    "\n",
    "mylist = [12, math.nan, 23, -11, 45, math.nan, 71]\n",
    "\n",
    "print(discard(mylist,True))    "
   ]
  },
  {
   "cell_type": "markdown",
   "metadata": {},
   "source": [
    "## 1.5 File I/O\n",
    "\n",
    "You can read and write data from a list or other objects to a file."
   ]
  },
  {
   "cell_type": "code",
   "execution_count": null,
   "metadata": {},
   "outputs": [],
   "source": [
    "states = [('MI', 'Michigan', 'Lansing'),('CA', 'California', 'Sacramento'),\n",
    "          ('TX', 'Texas', 'Austin'), ('MN', 'Minnesota', 'St Paul')]\n",
    "\n",
    "with open('states.txt', 'w') as f:\n",
    "    f.write('\\n'.join('%s,%s,%s' % state for state in states))\n",
    "    \n",
    "with open('states.txt', 'r') as f:\n",
    "    for line in f:\n",
    "        fields = line.split(sep=',')    # split each line into its respective fields\n",
    "        print('State=',fields[1],'(',fields[0],')','Capital:', fields[2])"
   ]
  }
 ],
 "metadata": {
  "kernelspec": {
   "display_name": "Python 3",
   "language": "python",
   "name": "python3"
  },
  "language_info": {
   "codemirror_mode": {
    "name": "ipython",
    "version": 3
   },
   "file_extension": ".py",
   "mimetype": "text/x-python",
   "name": "python",
   "nbconvert_exporter": "python",
   "pygments_lexer": "ipython3",
   "version": "3.6.5"
  }
 },
 "nbformat": 4,
 "nbformat_minor": 2
}
