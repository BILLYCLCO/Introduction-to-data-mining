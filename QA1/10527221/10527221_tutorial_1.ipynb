{
 "cells": [
  {
   "cell_type": "markdown",
   "metadata": {},
   "source": [
    "## My example is multiplication table ( 九九乘法表 )\n",
    "\n",
    "### 1. First, I create my own functions in Python"
   ]
  },
  {
   "cell_type": "code",
   "execution_count": 1,
   "metadata": {},
   "outputs": [
    {
     "name": "stdout",
     "output_type": "stream",
     "text": [
      "6\n"
     ]
    }
   ],
   "source": [
    "myfunc = lambda x, y: x*y       # example of an unnamed function\n",
    "print(myfunc(2, 3))"
   ]
  },
  {
   "cell_type": "code",
   "execution_count": 2,
   "metadata": {},
   "outputs": [
    {
     "name": "stdout",
     "output_type": "stream",
     "text": [
      "6\n"
     ]
    }
   ],
   "source": [
    "def mul( x=1, y=1 ) :               # example of a named function\n",
    "    ans = x*y\n",
    "    return ans\n",
    "\n",
    "print(mul(2, 3))"
   ]
  },
  {
   "cell_type": "markdown",
   "metadata": {},
   "source": [
    "### 2. create table ( data type : list )"
   ]
  },
  {
   "cell_type": "code",
   "execution_count": 3,
   "metadata": {
    "scrolled": true
   },
   "outputs": [
    {
     "data": {
      "text/plain": [
       "[['1', '2', '3', '4', '5', '6', '7', '8', '9'],\n",
       " ['2', '4', '6', '8', '10', '12', '14', '16', '18'],\n",
       " ['3', '6', '9', '12', '15', '18', '21', '24', '27'],\n",
       " ['4', '8', '12', '16', '20', '24', '28', '32', '36'],\n",
       " ['5', '10', '15', '20', '25', '30', '35', '40', '45'],\n",
       " ['6', '12', '18', '24', '30', '36', '42', '48', '54'],\n",
       " ['7', '14', '21', '28', '35', '42', '49', '56', '63'],\n",
       " ['8', '16', '24', '32', '40', '48', '56', '64', '72'],\n",
       " ['9', '18', '27', '36', '45', '54', '63', '72', '81']]"
      ]
     },
     "execution_count": 3,
     "metadata": {},
     "output_type": "execute_result"
    }
   ],
   "source": [
    "mul_list = []\n",
    "for x in range(1, 10):\n",
    "    mul_list.append( [ str(mul(x,y)) for y in range(1,10) ] )\n",
    "    \n",
    "mul_list"
   ]
  },
  {
   "cell_type": "markdown",
   "metadata": {},
   "source": [
    "### 3. create table ( data type : dictionary )"
   ]
  },
  {
   "cell_type": "code",
   "execution_count": 4,
   "metadata": {},
   "outputs": [],
   "source": [
    "mul_dict = {}\n",
    "mul_dict[\"1x\"] = mul_list[0]\n",
    "mul_dict[\"2x\"] = mul_list[1]\n",
    "mul_dict[\"3x\"] = mul_list[2]\n",
    "mul_dict[\"4x\"] = mul_list[3]\n",
    "mul_dict[\"5x\"] = mul_list[4]\n",
    "mul_dict[\"6x\"] = mul_list[5]\n",
    "mul_dict[\"7x\"] = mul_list[6]\n",
    "mul_dict[\"8x\"] = mul_list[7]\n",
    "mul_dict[\"9x\"] = mul_list[8]"
   ]
  },
  {
   "cell_type": "code",
   "execution_count": 5,
   "metadata": {},
   "outputs": [
    {
     "name": "stdout",
     "output_type": "stream",
     "text": [
      "dict_keys(['1x', '2x', '3x', '4x', '5x', '6x', '7x', '8x', '9x'])\n",
      "dict_values([['1', '2', '3', '4', '5', '6', '7', '8', '9'], ['2', '4', '6', '8', '10', '12', '14', '16', '18'], ['3', '6', '9', '12', '15', '18', '21', '24', '27'], ['4', '8', '12', '16', '20', '24', '28', '32', '36'], ['5', '10', '15', '20', '25', '30', '35', '40', '45'], ['6', '12', '18', '24', '30', '36', '42', '48', '54'], ['7', '14', '21', '28', '35', '42', '49', '56', '63'], ['8', '16', '24', '32', '40', '48', '56', '64', '72'], ['9', '18', '27', '36', '45', '54', '63', '72', '81']])\n",
      "9\n",
      "['3', '6', '9', '12', '15', '18', '21', '24', '27']\n",
      "False\n",
      "True\n"
     ]
    },
    {
     "data": {
      "text/plain": [
       "{'1x': ['1', '2', '3', '4', '5', '6', '7', '8', '9'],\n",
       " '2x': ['2', '4', '6', '8', '10', '12', '14', '16', '18'],\n",
       " '3x': ['3', '6', '9', '12', '15', '18', '21', '24', '27'],\n",
       " '4x': ['4', '8', '12', '16', '20', '24', '28', '32', '36'],\n",
       " '5x': ['5', '10', '15', '20', '25', '30', '35', '40', '45'],\n",
       " '6x': ['6', '12', '18', '24', '30', '36', '42', '48', '54'],\n",
       " '7x': ['7', '14', '21', '28', '35', '42', '49', '56', '63'],\n",
       " '8x': ['8', '16', '24', '32', '40', '48', '56', '64', '72'],\n",
       " '9x': ['9', '18', '27', '36', '45', '54', '63', '72', '81']}"
      ]
     },
     "execution_count": 5,
     "metadata": {},
     "output_type": "execute_result"
    }
   ],
   "source": [
    "print(mul_dict.keys())            # get the keys of the dictionary\n",
    "print(mul_dict.values())          # get the values of the dictionary\n",
    "print(len(mul_dict))              # get number of key-value pairs\n",
    "\n",
    "print(mul_dict.get('3x'))\n",
    "print(\"xx\" in mul_dict)\n",
    "print(\"9x\" in mul_dict)\n",
    "\n",
    "mul_dict"
   ]
  },
  {
   "cell_type": "markdown",
   "metadata": {},
   "source": [
    "- The other way to do the same thing ."
   ]
  },
  {
   "cell_type": "code",
   "execution_count": 6,
   "metadata": {},
   "outputs": [
    {
     "data": {
      "text/plain": [
       "{'1x': ['1', '2', '3', '4', '5', '6', '7', '8', '9'],\n",
       " '2x': ['2', '4', '6', '8', '10', '12', '14', '16', '18'],\n",
       " '3x': ['3', '6', '9', '12', '15', '18', '21', '24', '27'],\n",
       " '4x': ['4', '8', '12', '16', '20', '24', '28', '32', '36'],\n",
       " '5x': ['5', '10', '15', '20', '25', '30', '35', '40', '45'],\n",
       " '6x': ['6', '12', '18', '24', '30', '36', '42', '48', '54'],\n",
       " '7x': ['7', '14', '21', '28', '35', '42', '49', '56', '63'],\n",
       " '8x': ['8', '16', '24', '32', '40', '48', '56', '64', '72'],\n",
       " '9x': ['9', '18', '27', '36', '45', '54', '63', '72', '81']}"
      ]
     },
     "execution_count": 6,
     "metadata": {},
     "output_type": "execute_result"
    }
   ],
   "source": [
    "keys = [ \"1x\", \"2x\", \"3x\", \"4x\", \"5x\", \"6x\", \"7x\", \"8x\", \"9x\" ]\n",
    "values = mul_list\n",
    "mul_dict2 = dict(zip(keys, values))\n",
    "mul_dict2"
   ]
  },
  {
   "cell_type": "markdown",
   "metadata": {},
   "source": [
    "### 4. File I/O\n",
    "\n",
    "You can read and write data from a list or other objects to a file."
   ]
  },
  {
   "cell_type": "code",
   "execution_count": 7,
   "metadata": {
    "scrolled": true
   },
   "outputs": [
    {
     "name": "stdout",
     "output_type": "stream",
     "text": [
      "[['1', '2', '3', '4', '5', '6', '7', '8', '9'], ['2', '4', '6', '8', '10', '12', '14', '16', '18'], ['3', '6', '9', '12', '15', '18', '21', '24', '27'], ['4', '8', '12', '16', '20', '24', '28', '32', '36'], ['5', '10', '15', '20', '25', '30', '35', '40', '45'], ['6', '12', '18', '24', '30', '36', '42', '48', '54'], ['7', '14', '21', '28', '35', '42', '49', '56', '63'], ['8', '16', '24', '32', '40', '48', '56', '64', '72'], ['9', '18', '27', '36', '45', '54', '63', '72', '81']]\n"
     ]
    },
    {
     "data": {
      "text/plain": [
       "['1,2,3,4,5,6,7,8,9',\n",
       " '2,4,6,8,10,12,14,16,18',\n",
       " '3,6,9,12,15,18,21,24,27',\n",
       " '4,8,12,16,20,24,28,32,36',\n",
       " '5,10,15,20,25,30,35,40,45',\n",
       " '6,12,18,24,30,36,42,48,54',\n",
       " '7,14,21,28,35,42,49,56,63',\n",
       " '8,16,24,32,40,48,56,64,72',\n",
       " '9,18,27,36,45,54,63,72,81']"
      ]
     },
     "execution_count": 7,
     "metadata": {},
     "output_type": "execute_result"
    }
   ],
   "source": [
    "from functools import reduce\n",
    "print(mul_list)\n",
    "\n",
    "for i in range(len(mul_list)) :\n",
    "    mul_list[i] = reduce( lambda s1, s2 : s1 + \",\" + s2, mul_list[i] )\n",
    "    \n",
    "mul_list"
   ]
  },
  {
   "cell_type": "code",
   "execution_count": 8,
   "metadata": {
    "scrolled": true
   },
   "outputs": [
    {
     "name": "stdout",
     "output_type": "stream",
     "text": [
      "1x = 1 2 3 4 5 6 7 8 9\n",
      "\n",
      "2x = 2 4 6 8 10 12 14 16 18\n",
      "\n",
      "3x = 3 6 9 12 15 18 21 24 27\n",
      "\n",
      "4x = 4 8 12 16 20 24 28 32 36\n",
      "\n",
      "5x = 5 10 15 20 25 30 35 40 45\n",
      "\n",
      "6x = 6 12 18 24 30 36 42 48 54\n",
      "\n",
      "7x = 7 14 21 28 35 42 49 56 63\n",
      "\n",
      "8x = 8 16 24 32 40 48 56 64 72\n",
      "\n",
      "9x = 9 18 27 36 45 54 63 72 81\n"
     ]
    }
   ],
   "source": [
    "with open('mul_list.txt', 'w') as f:\n",
    "    f.write('\\n'.join(mul_list) )\n",
    "    \n",
    "with open('mul_list.txt', 'r') as f:\n",
    "    i = 0\n",
    "    for line in f:\n",
    "        i += 1\n",
    "        fields = line.split(sep=',')    # split each line into its respective fields\n",
    "        print((fields[0] + \"x =\"),fields[0],fields[1],fields[2],fields[3],fields[4],fields[5],fields[6],fields[7],fields[8])"
   ]
  }
 ],
 "metadata": {
  "kernelspec": {
   "display_name": "Python 3",
   "language": "python",
   "name": "python3"
  },
  "language_info": {
   "codemirror_mode": {
    "name": "ipython",
    "version": 3
   },
   "file_extension": ".py",
   "mimetype": "text/x-python",
   "name": "python",
   "nbconvert_exporter": "python",
   "pygments_lexer": "ipython3",
   "version": "3.7.4"
  }
 },
 "nbformat": 4,
 "nbformat_minor": 2
}
