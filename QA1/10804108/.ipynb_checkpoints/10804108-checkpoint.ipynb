{
 "cells": [
  {
   "cell_type": "code",
   "execution_count": 1,
   "metadata": {},
   "outputs": [],
   "source": [
    "%matplotlib inline\n",
    "import numpy as np\n",
    "import matplotlib.pyplot as plt\n",
    "from numpy import *"
   ]
  },
  {
   "cell_type": "code",
   "execution_count": 60,
   "metadata": {},
   "outputs": [
    {
     "name": "stdout",
     "output_type": "stream",
     "text": [
      "发展系数a= -0.037\n",
      "灰色作用量b= 3.065\n",
      "平均相对误差MAPE=1.538%\n",
      "模拟数据xs= [2.874, 3.231, 3.353, 3.479, 3.61]\n",
      "预测未来3步的值xf= [3.746, 3.887, 4.034]\n"
     ]
    }
   ],
   "source": [
    "x0=[2.874,3.278,3.337,3.390,3.679]\n",
    "t=3\n",
    "x1=[]\n",
    "k=0\n",
    "for i in x0:\n",
    "    k=k+i\n",
    "    x1.append(k)\n",
    "n=len(x1)\n",
    "z1=[]\n",
    "for i in list(range(1,n)):\n",
    "    z1.append((x1[i-1]+x1[i])*0.5)\n",
    "z1\n",
    "m=len(z1)\n",
    "X0=np.mat(x0).T\n",
    "Y=X0[1:n]\n",
    "Z1=np.mat(z1).T\n",
    "B=np.mat(ones((m,2)))\n",
    "for i in list(range(0,m)):\n",
    "    B[i,0]=Z1[i]\n",
    "E=(np.linalg.inv(B.T*B))*B.T*Y\n",
    "a=round(E[0,0],3)*-1\n",
    "b=round(E[1,0],3)\n",
    "xs=[x0[0]]\n",
    "for k in list(range(2,n+1)):\n",
    "    xs.append(round((1-exp(a))*(x0[0]-(b/a))*exp((-a)*(k-1)),3))\n",
    "xf=[]\n",
    "for k in list(range(n+1,t+n+1)):\n",
    "    xf.append(round((1-exp(a))*(x0[0]-(b/a))*exp((-a)*(k-1)),3))\n",
    "e=[]\n",
    "for i in  list(range(0,n)):\n",
    "    e.append(abs(x0[i]-xs[i])/x0[0])\n",
    "MAPE=round(sum(e)/n,5)\n",
    "print(\"发展系数a=\",a)\n",
    "print(\"灰色作用量b=\",b)\n",
    "print(\"平均相对误差MAPE={}%\".format(MAPE*100))\n",
    "print(\"模拟数据xs=\",xs)\n",
    "print(\"预测未来{}步的值xf=\".format(t),xf)"
   ]
  },
  {
   "cell_type": "code",
   "execution_count": 56,
   "metadata": {},
   "outputs": [
    {
     "name": "stdout",
     "output_type": "stream",
     "text": [
      "平均相对误差MAPE=:1.5%\n"
     ]
    }
   ],
   "source": [
    "e=[]\n",
    "for i in  list(range(0,n)):\n",
    "    e.append(abs(x0[i]-xs[i])/x0[0])\n",
    "MAPE=round(sum(e)/n,3)\n",
    "print(\"平均相对误差MAPE={}%\".format(MAPE*100))"
   ]
  },
  {
   "cell_type": "code",
   "execution_count": 51,
   "metadata": {},
   "outputs": [
    {
     "data": {
      "text/plain": [
       "0.01537926235212248"
      ]
     },
     "execution_count": 51,
     "metadata": {},
     "output_type": "execute_result"
    }
   ],
   "source": [
    "e=[]\n",
    "for i in  list(range(0,n)):\n",
    "    e.append(abs(x0[i]-xs[i])/x0[0])\n",
    "MAPE=sum(e)/n\n",
    "MAPE"
   ]
  },
  {
   "cell_type": "code",
   "execution_count": 46,
   "metadata": {},
   "outputs": [
    {
     "data": {
      "text/plain": [
       "[0.0,\n",
       " 0.016353514265831644,\n",
       " 0.005567153792623526,\n",
       " 0.030967292971468323,\n",
       " 0.024008350730688917]"
      ]
     },
     "execution_count": 46,
     "metadata": {},
     "output_type": "execute_result"
    }
   ],
   "source": [
    "e"
   ]
  },
  {
   "cell_type": "code",
   "execution_count": 44,
   "metadata": {},
   "outputs": [
    {
     "data": {
      "text/plain": [
       "0.22100000000000009"
      ]
     },
     "execution_count": 44,
     "metadata": {},
     "output_type": "execute_result"
    }
   ],
   "source": [
    "ee=sum(e)\n",
    "ee"
   ]
  },
  {
   "cell_type": "code",
   "execution_count": 14,
   "metadata": {},
   "outputs": [
    {
     "data": {
      "text/plain": [
       "5"
      ]
     },
     "execution_count": 14,
     "metadata": {},
     "output_type": "execute_result"
    }
   ],
   "source": []
  },
  {
   "cell_type": "code",
   "execution_count": null,
   "metadata": {},
   "outputs": [],
   "source": []
  }
 ],
 "metadata": {
  "kernelspec": {
   "display_name": "Python 3",
   "language": "python",
   "name": "python3"
  },
  "language_info": {
   "codemirror_mode": {
    "name": "ipython",
    "version": 3
   },
   "file_extension": ".py",
   "mimetype": "text/x-python",
   "name": "python",
   "nbconvert_exporter": "python",
   "pygments_lexer": "ipython3",
   "version": "3.7.1"
  }
 },
 "nbformat": 4,
 "nbformat_minor": 2
}
