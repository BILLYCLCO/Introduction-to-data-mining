{
 "cells": [
  {
   "cell_type": "markdown",
   "metadata": {},
   "source": [
    "# 1.2 Compound Data Types\n",
    "\n",
    "* list 可以用來儲存一連串有順序性的元素\n",
    "\n",
    "* list 是做好数据分析的第一步，所以掌握好串列非常重要。"
   ]
  },
  {
   "cell_type": "code",
   "execution_count": 110,
   "metadata": {},
   "outputs": [
    {
     "name": "stdout",
     "output_type": "stream",
     "text": [
      "[2.874, 3.278]\n",
      "<class 'list'>\n",
      "[3, 4, 5]\n",
      "[2.874, 3.278, 3, 4, 5]\n",
      "[2.874, 3.278, 3, 4, 5, 2.874, 3.278, 3, 4, 5]\n",
      "[2.874, 3.278, 3, 4, 5, 2.874, 3.278, 3, 4]\n",
      "[2.874, 3.278, 4, 5, 2.874, 3.278, 3, 4]\n",
      "[2.874, 3.278, 4, 5, 3.278, 3, 4]\n",
      "[2.874, 3.278, 4]\n",
      "2.874\n",
      "4\n",
      "[2.874, 3.278]\n",
      "3\n",
      "[2.874, 3.278, 4]\n",
      "[3.278, 4]\n",
      "[2.874, 3.278]\n",
      "[2.874, 3.278, 4, 5]\n",
      "[2.874, 3.278, 3.337, 3.679]\n",
      "[2.874, 3.278, 3.337, 3.39, 3.679]\n"
     ]
    }
   ],
   "source": [
    "X1 = [2.874,3.278]  # 生成串列\n",
    "print(X1)            \n",
    "print(type(X1))      # 查看串列类型\n",
    "X2 = [3,4,5]\n",
    "print(X2)\n",
    "X = X1+X2           # 串列相加，相当于将两个串列拼接\n",
    "print(X)\n",
    "X = X * 2           # 串列和数字2相乘，是将串列重复2次\n",
    "print(X)        \n",
    "X.pop()             # 删除数列最后一位元素，默认为-1。如果输入0，则删除第一位元素\n",
    "print(X)\n",
    "X.remove(3)         # 删除数列中第一次出现值，3\n",
    "print(X)\n",
    "del X[4]            # 删除第5位元素\n",
    "print(X)\n",
    "del X[3:]           # 删除第3元素到最后的元素\n",
    "print(X)\n",
    "print(X[0])         # 查看串列内的数字，注意的是串列位置索引是从 0 开始的\n",
    "print(X[-1])        # 当串列很长时，可以从后索引，用负数。\n",
    "print(X[0:2])       # 可以得到前两个数字\n",
    "print(len(X))       # 查看 X 数列内有几个数字\n",
    "print(X)\n",
    "print(X[1:3])       # 可以查看第 2 个到第 3 个元素\n",
    "print(X[-3:-1])     # 可以查看倒数第 3 到倒数第 2 的数字\n",
    "X.append(5)         # 在数列后面增加数字\n",
    "print(X)\n",
    "X[2]=3.337          # 更改串列 X 中的第 3 个数字\n",
    "X[-1]=3.679          # 更改串列 X 中的最后一个个数字\n",
    "print(X)\n",
    "X.insert(3,3.39)    # 插入 3.39 到第4位\n",
    "print(X)"
   ]
  },
  {
   "cell_type": "markdown",
   "metadata": {},
   "source": [
    "# 1.4 User-Defined Functions\n",
    "## 灰色預測模型函數\n",
    "* Grey system theory was proposed to study the uncertainty problems with small data and incomplete information by Professor Deng in 1982. The grey system theory is being used widely, such as testing and analysis system, solving the problem of classification of system elements and objects, evaluating and selecting schemes, etc. . It is noteworthy that the most widely used and studied area is the system forecasting by using grey system forecasting model. GM(1,1) model is the core model of grey system prediction model, which is widely used in the fields of industry, agriculture, water conservancy, energy and economy. The advantage of GM (1,1) model is that it can use small sample data (at least 4 sample data) to establish a system prediction model, and the calculation of the model is convenient and simple."
   ]
  },
  {
   "cell_type": "code",
   "execution_count": 111,
   "metadata": {},
   "outputs": [
    {
     "name": "stdout",
     "output_type": "stream",
     "text": [
      "输入的原始序列 x0 = [2.874, 3.278, 3.337, 3.39, 3.679] \n",
      "发展系数 a = -0.037 \n",
      "灰色作用量 b = 3.065 \n",
      "平均相对误差 MAPE = 1.538% \n",
      "模拟数据 xs = [2.874, 3.231, 3.353, 3.479, 3.61] \n",
      "预测未来3步的值 xf = [3.746, 3.887, 4.034]\n"
     ]
    },
    {
     "data": {
      "image/png": "[encoded data removed]",
      "text/plain": [
       "<Figure size 432x288 with 1 Axes>"
      ]
     },
     "metadata": {
      "needs_background": "light"
     },
     "output_type": "display_data"
    }
   ],
   "source": [
    "# 導入相關套件\n",
    "%matplotlib inline                                            \n",
    "import numpy as np\n",
    "import matplotlib.pyplot as plt\n",
    "from numpy import *\n",
    "\n",
    "\n",
    "# 下函數的主要功能是實現利用灰色預測GM(1,1)模型進行預測，只需要輸入原始序列和預測步長，就可以輸出相關數據結果和對比圖示。\n",
    "\n",
    "def GM11(x0,t):                                                 \n",
    "    \n",
    "    # 計算原始序列的 1-AGO\n",
    "    x1=[]\n",
    "    k=0\n",
    "    for i in x0:                                             \n",
    "        k=k+i\n",
    "        x1.append(k)\n",
    "    n=len(x1)\n",
    "    \n",
    "    # 對 x1 做緊鄰均值生成序列 z1\n",
    "    z1=[]\n",
    "    for i in list(range(1,n)):                               \n",
    "        z1.append((x1[i-1]+x1[i])*0.5)\n",
    "    m=len(z1)\n",
    "    \n",
    "    # 求矩陣 B 和 Y\n",
    "    X0=np.mat(x0).T\n",
    "    Y=X0[1:n]\n",
    "    Z1=np.mat(z1).T\n",
    "    B=np.mat(ones((m,2)))\n",
    "    for i in list(range(0,m)):\n",
    "        B[i,0]=Z1[i]\n",
    "        \n",
    "    # 用最小二乘法計算 a（發展係數）和 b（灰色作用量）的值。**這裏有一個問題就是生成的 a 的值與正確值互爲相反數，函數還需要進一步改進。\n",
    "    E=(np.linalg.inv(B.T*B))*B.T*Y\n",
    "    a=round(E[0,0],3)*-1\n",
    "    b=round(E[1,0],3)\n",
    "    \n",
    "    # 計算模擬數據 xs\n",
    "    xs=[x0[0]]\n",
    "    for k in list(range(2,n+1)):\n",
    "        xs.append(round((1-exp(a))*\n",
    "                        (x0[0]-(b/a))*exp((-a)*(k-1)),3))\n",
    "    # 計算後續 t 個預測值 xf\n",
    "    xf=[]\n",
    "    for k in list(range(n+1,t+n+1)):\n",
    "        xf.append(round((1-exp(a))*\n",
    "                        (x0[0]-(b/a))*exp((-a)*(k-1)),3))\n",
    "    \n",
    "    # 計算誤差序列 e 與平均相對誤差 MAPE\n",
    "    e=[]\n",
    "    for i in  list(range(0,n)):\n",
    "        e.append(abs(x0[i]-xs[i])/x0[0])\n",
    "    MAPE=round(sum(e)/n,5)\n",
    "    \n",
    "    # 輸出相關結果數據\n",
    "    A0=\"输入的原始序列 x0 = {}\".format(x0)\n",
    "    A1=\"\\n发展系数 a = {}\".format(a)\n",
    "    A2=\"\\n灰色作用量 b = {}\".format(b)\n",
    "    A3=\"\\n平均相对误差 MAPE = {}%\".format(MAPE*100)\n",
    "    A4=\"\\n模拟数据 xs = {}\".format(xs)\n",
    "    A5=\"\\n预测未来{}步的值 xf = {}\".format(t,xf)\n",
    "    print(A0,A1,A2,A3,A4,A5)\n",
    "    A=A0+A1+A2+A3+A4+A5\n",
    "    \n",
    "    # 将相关数据输出到 word 文档中\n",
    "    with open('GM11.doc', 'w') as f:\n",
    "        f.write(A)\n",
    "    \n",
    "    # 根據函數數據結果輸出實際值與模擬值和預測值的對比圖，并将图片保存在本地。\n",
    "    plt.scatter(list(range(1,n+1)),x0)\n",
    "    plt.scatter(list(range(1,n+1+t)),xs+xf,c=\"red\")\n",
    "    l1=plt.plot(list(range(1,n+1+t)),xs+xf,\"r\")\n",
    "    l2=plt.plot(list(range(1,n+1)),x0,\"b\")\n",
    "    plt.xlabel(\"times\")\n",
    "    plt.ylabel(\"values\")\n",
    "    plt.legend([\"prediction value\",\"actual value\"])\n",
    "    plt.savefig(\"Fitting lines of forecast values and actual values\")\n",
    "    \n",
    "# 輸入原始數據 x0 和預測步長 t，这里的 x0 用到 上个代码块 1.2 中的结果\n",
    "x0=X\n",
    "t=3\n",
    "\n",
    "GM11(x0,t)\n",
    "\n",
    "#------------------------------------------------------------------------------------------------------------------------------------\n",
    "# 該函數還有很多地方需要改進，但是由於時間關係和本人對Python的研究還是剛剛起步，有許多基礎的地方還沒有完善好。\n",
    "\n",
    "# 1） 在輸入數據的有效性方面還需加强，如預測步長 t 需要輸入大於零的整數，如果輸入其他值，可以具備提醒使用者輸入正確數據功能。\n",
    "# 2） 圖形美觀性還需加强，比如在散點上顯示數值。\n",
    "# 3） 函數很多代碼很不簡潔，需要改進。\n",
    "# 4)  輸入數據的輸入方式上或許有更好的方法\n",
    "# 5） 现在仅仅是将输出结果保存在 word 文档和 png图片文件中，后续可以所有结果都输入到 word 文档或者 PDF 文档中\n",
    "# 6） 不完善的地方還有很多，例如如何将函数输出的结果保留，但是現在水平有限，或許在本門課程的學習過程中，可以對這個函數不斷精進。\n"
   ]
  },
  {
   "cell_type": "markdown",
   "metadata": {},
   "source": [
    "# 1.5 File I/O\n",
    "* 图片的读取，显示与保存\n",
    "* 文档的读取，保存"
   ]
  },
  {
   "cell_type": "code",
   "execution_count": 112,
   "metadata": {},
   "outputs": [
    {
     "data": {
      "image/png": "[encoded data removed]",
      "text/plain": [
       "<Figure size 432x288 with 1 Axes>"
      ]
     },
     "metadata": {
      "needs_background": "light"
     },
     "output_type": "display_data"
    }
   ],
   "source": [
    "import matplotlib.image as imp \n",
    "\n",
    "# 读取在上一步刚刚保存的图片\n",
    "image = imp.imread('Fitting lines of forecast values and actual values.png')\n",
    "\n",
    "# 将读取的图片显示出来\n",
    "plt.imshow(image)\n",
    "\n",
    "# 重新保存图片，更改图片名称和图片类型\n",
    "plt.savefig('image.jpg')\n",
    "\n",
    "# 重新读取图片时发现图片清晰度有所下降，这里还有待找出原因并进行改进。"
   ]
  },
  {
   "cell_type": "code",
   "execution_count": 113,
   "metadata": {},
   "outputs": [
    {
     "name": "stdout",
     "output_type": "stream",
     "text": [
      "1、输入的原始序列 x0 = [2.874, 3.278, 3.337, 3.39, 3.679]\n",
      "\n",
      "2、发展系数 a = -0.037\n",
      "\n",
      "3、灰色作用量 b = 3.065\n",
      "\n",
      "4、平均相对误差 MAPE = 1.538%\n",
      "\n",
      "5、模拟数据 xs = [2.874, 3.231, 3.353, 3.479, 3.61]\n",
      "\n",
      "6、预测未来3步的值 xf = [3.746, 3.887, 4.034]\n"
     ]
    }
   ],
   "source": [
    "# 1.4 中输出结果没有编号，不利于阅读，当前代码块为读取 GM11.doc 文档，将输出结果进行编号，并同时将新的输出保存在 gm11.txt 文件中。\n",
    "\n",
    "with open('gm11.txt', 'w+') as h:          \n",
    "    with open('GM11.doc', 'r') as g:           #打开 GM11.doc 文件，读出文件内容\n",
    "        c = 0\n",
    "        for gm in g:                          \n",
    "            c=c+1\n",
    "            gm11=\"{}、{}\".format(c,gm)         # 对文档内容进行编号\n",
    "            \n",
    "            # 将 gm11 的内容插入到txt文档当中，h.seek(0,2) 中，2是文档最末尾，如果此位置为1则是当前位置，如果为0则是开头位置。\n",
    "            content = h.read()                 \n",
    "            h.seek(0, 2)                       \n",
    "            h.write(gm11+content)\n",
    "            print(gm11)"
   ]
  },
  {
   "cell_type": "code",
   "execution_count": null,
   "metadata": {},
   "outputs": [],
   "source": []
  }
 ],
 "metadata": {
  "kernelspec": {
   "display_name": "Python 3",
   "language": "python",
   "name": "python3"
  },
  "language_info": {
   "codemirror_mode": {
    "name": "ipython",
    "version": 3
   },
   "file_extension": ".py",
   "mimetype": "text/x-python",
   "name": "python",
   "nbconvert_exporter": "python",
   "pygments_lexer": "ipython3",
   "version": "3.7.1"
  }
 },
 "nbformat": 4,
 "nbformat_minor": 2
}
